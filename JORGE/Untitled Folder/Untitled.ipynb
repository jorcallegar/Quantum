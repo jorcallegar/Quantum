{
 "cells": [
  {
   "cell_type": "code",
   "execution_count": 16,
   "metadata": {},
   "outputs": [
    {
     "data": {
      "text/latex": [
       "$\\displaystyle \\frac{\\sqrt{2} H_{0} {\\left|000\\right\\rangle }^{2}}{2} + \\frac{{\\left|000\\right\\rangle } {\\left|001\\right\\rangle }}{2} + \\frac{{\\left|001\\right\\rangle }^{2}}{2}$"
      ],
      "text/plain": [
       "sqrt(2)*H(0)*|000>**2/2 + |000>*|001>/2 + |001>**2/2"
      ]
     },
     "execution_count": 16,
     "metadata": {},
     "output_type": "execute_result"
    }
   ],
   "source": [
    "from sympy import sqrt\n",
    "from sympy.physics.quantum.qubit import Qubit\n",
    "from sympy.physics.quantum.gate import HadamardGate\n",
    "from sympy.physics.quantum.qapply import qapply\n",
    "a= qapply(HadamardGate(0)*Qubit('000'))\n",
    "qapply(HadamardGate(0)*Qubit('000')*a)\n"
   ]
  }
 ],
 "metadata": {
  "kernelspec": {
   "display_name": "Python 3",
   "language": "python",
   "name": "python3"
  },
  "language_info": {
   "codemirror_mode": {
    "name": "ipython",
    "version": 3
   },
   "file_extension": ".py",
   "mimetype": "text/x-python",
   "name": "python",
   "nbconvert_exporter": "python",
   "pygments_lexer": "ipython3",
   "version": "3.7.6"
  }
 },
 "nbformat": 4,
 "nbformat_minor": 4
}
