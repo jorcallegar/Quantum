{
 "cells": [
  {
   "cell_type": "code",
   "execution_count": 1,
   "metadata": {},
   "outputs": [],
   "source": [
    "%matplotlib inline\n",
    "# Importamos qiskit standard\n",
    "from qiskit import QuantumRegister, ClassicalRegister, execute\n",
    "from qiskit import QuantumCircuit, execute, Aer\n",
    "\n",
    "from qiskit.tools.jupyter import *\n",
    "from qiskit.visualization import plot_state_city\n",
    "import matplotlib.pyplot as plt\n",
    "\n",
    "\n",
    "import numpy as np"
   ]
  },
  {
   "cell_type": "code",
   "execution_count": 2,
   "metadata": {},
   "outputs": [],
   "source": [
    "def real_map(value, leftMin, leftMax, rightMin, rightMax):\n",
    "   \n",
    "    # Miramos como de amplio es cada rango\n",
    "    leftSpan = leftMax - leftMin\n",
    "    rightSpan = rightMax - rightMin\n",
    "\n",
    "    # Normalizamos 0-1 range (float)\n",
    "    valueScaled = float(value - leftMin) / float(leftSpan)\n",
    "\n",
    "    # Convertimos el 0-1 range a un valor en el rangeo de la dcha.\n",
    "    return rightMin + (valueScaled * rightSpan)"
   ]
  },
  {
   "cell_type": "code",
   "execution_count": 7,
   "metadata": {},
   "outputs": [],
   "source": [
    "def QRandom(a, b, qubits=2):\n",
    "    \n",
    "    ### Generador de números aleatorios.\n",
    "    \n",
    "    q = QuantumRegister(qubits, 'q')\n",
    "    \n",
    "    ### Solo crea la pila de registros, como en un procesador clásico.\n",
    "    ### En este caso nuestro registro es igual a 2.\n",
    "    \n",
    "    \n",
    "    \n",
    "    circ = QuantumCircuit(q)\n",
    "    \n",
    "    #Creamos el circuito cuántico con dos registros\n",
    "    \n",
    "    c0 = ClassicalRegister(2, 'c0')\n",
    "    \n",
    "    circ.add_register(c0)\n",
    "\n",
    "    for i in range(qubits):   ##hacemos un bucle de 2 en este caso pero dependeria de lo que hicieramos.\n",
    "        circ.h(q[i])       #aplicamos una puerta de hadarmard\n",
    "\n",
    "\n",
    "    for i in range(qubits):\n",
    "        circ.measure(q[i], c0)\n",
    "\n",
    "    #circ.draw(output='mpl')\n",
    "\n",
    "\n",
    "    backend = Aer.get_backend('statevector_simulator')\n",
    "    #statevector_simulator= vector de estado\n",
    "    #El backend más común en Qiskit Aer es el statevector_simulator. \n",
    "    \n",
    "    job = execute(circ, backend)\n",
    "    \n",
    "    \n",
    "    \n",
    "    #Este simulador devuelve el estado cuántico, que es un vector complejo de dimensiones.    \n",
    "    #dónde es la cantidad de qubits (así que tenga cuidado al usar esto, ya que rápidamente \n",
    "    #se volverá demasiado grande para ejecutarse en su máquina).\n",
    "    \n",
    "    \n",
    "    #print(job.status())\n",
    "    result = job.result()\n",
    "    \n",
    "    output = result.get_statevector(circ, decimals=5)\n",
    "    #Coger valor del vector de estado con una precisión de 5 \n",
    "    #inicializamos los valores\n",
    "    n1 = 0\n",
    "    n2 = 0\n",
    "    n3 = 0\n",
    "    \n",
    "    \n",
    "    for i in range( output.size ):\n",
    "        if abs(output[i]) != 0:\n",
    "            #print(i, output[i])\n",
    "            n1 = i   #valor imaginario\n",
    "            n2 = np.real(output[i])   #valor real\n",
    "            n3 = np.imag(output[i])   #valor imaginario\n",
    "    \n",
    "    \n",
    "    y = real_map(n1+n2+n3, -qubits, len(output)-1+qubits, a, b) \n",
    "    plot_state_city(output)\n",
    "    return y"
   ]
  },
  {
   "cell_type": "code",
   "execution_count": 6,
   "metadata": {},
   "outputs": [
    {
     "name": "stdout",
     "output_type": "stream",
     "text": [
      "[46.15384615384615, 76.92307692307693]\n"
     ]
    },
    {
     "data": {
      "text/plain": [
       "[<matplotlib.lines.Line2D at 0x7f490a085dd0>]"
      ]
     },
     "execution_count": 6,
     "metadata": {},
     "output_type": "execute_result"
    },
    {
     "data": {
      "image/png": "[encoded data removed]",
      "text/plain": [
       "<Figure size 432x288 with 1 Axes>"
      ]
     },
     "metadata": {
      "needs_background": "light"
     },
     "output_type": "display_data"
    }
   ],
   "source": [
    "x = []\n",
    "for i in range(2):\n",
    "    x.append( QRandom(0, 100,3) )\n",
    "\n",
    "\n",
    "print(x)\n",
    "plt.plot(x)"
   ]
  },
  {
   "cell_type": "markdown",
   "metadata": {},
   "source": [
    "Siguiente prueba"
   ]
  }
 ],
 "metadata": {
  "kernelspec": {
   "display_name": "Python 3",
   "language": "python",
   "name": "python3"
  },
  "language_info": {
   "codemirror_mode": {
    "name": "ipython",
    "version": 3
   },
   "file_extension": ".py",
   "mimetype": "text/x-python",
   "name": "python",
   "nbconvert_exporter": "python",
   "pygments_lexer": "ipython3",
   "version": "3.7.6"
  }
 },
 "nbformat": 4,
 "nbformat_minor": 2
}
